{
  "nbformat": 4,
  "nbformat_minor": 0,
  "metadata": {
    "kernelspec": {
      "display_name": "Python 3",
      "language": "python",
      "name": "python3"
    },
    "language_info": {
      "codemirror_mode": {
        "name": "ipython",
        "version": 3
      },
      "file_extension": ".py",
      "mimetype": "text/x-python",
      "name": "python",
      "nbconvert_exporter": "python",
      "pygments_lexer": "ipython3",
      "version": "3.7.6"
    },
    "colab": {
      "name": "Tugas_1_Pekan_4_(EDA).ipynb",
      "provenance": [],
      "collapsed_sections": [],
      "include_colab_link": true
    }
  },
  "cells": [
    {
      "cell_type": "markdown",
      "metadata": {
        "id": "view-in-github",
        "colab_type": "text"
      },
      "source": [
        "<a href=\"https://colab.research.google.com/github/syarifahkemala/Bootcamp-Sanbercode/blob/main/Tugas_1_Pekan_4_(EDA).ipynb\" target=\"_parent\"><img src=\"https://colab.research.google.com/assets/colab-badge.svg\" alt=\"Open In Colab\"/></a>"
      ]
    },
    {
      "cell_type": "markdown",
      "metadata": {
        "id": "WP8NhfI_FpdE"
      },
      "source": [
        "# Soal 1. Menentukan jenis data categorical atau numeric\n",
        "Jelaskan data kategorikal (kualitatif) dan data numerik (kuantitatif)\n",
        "\n"
      ]
    },
    {
      "cell_type": "markdown",
      "metadata": {
        "id": "BUiO7XlIKUHR"
      },
      "source": [
        "Jawab disini:\n",
        "\n",
        "**Data kategorikal** merupakan data yang mencerminkan karakteristik seperti bahasa, jenis kelamin seseorang, warna rambut seseorang, atau nilai numerik bulat yang tidak memiliki makna matematis seperti 1 untuk laki-laki dan 0 untuk perempuan.\n",
        "\n",
        "**Data Nominal** merupakan data yang tidak memiliki order dan berbentuk label tanpa adanya tingkatan perangkingan"
      ]
    },
    {
      "cell_type": "markdown",
      "metadata": {
        "id": "Agohgqj4KWqM"
      },
      "source": [
        "\n",
        "\n",
        "---\n",
        "\n",
        "\n",
        "\n",
        "---\n",
        "\n",
        "\n",
        "\n",
        "---\n",
        "\n"
      ]
    },
    {
      "cell_type": "markdown",
      "metadata": {
        "id": "O3MC5fNrKGp2"
      },
      "source": [
        "Download [austin_weather.csv](https://drive.google.com/uc?export=download&id=19Yc404D3U3OPPoUP8J1pXETlTmA4hOOX)"
      ]
    },
    {
      "cell_type": "code",
      "metadata": {
        "colab": {
          "base_uri": "https://localhost:8080/"
        },
        "id": "h6lmxFvcb4LC",
        "outputId": "0fce930f-59a2-4c63-83ba-2868fa214312"
      },
      "source": [
        "from google.colab import drive\n",
        "drive.mount('/gdrive')"
      ],
      "execution_count": 1,
      "outputs": [
        {
          "output_type": "stream",
          "name": "stdout",
          "text": [
            "Mounted at /gdrive\n"
          ]
        }
      ]
    },
    {
      "cell_type": "code",
      "metadata": {
        "id": "GQMiqqNuFJDM",
        "colab": {
          "base_uri": "https://localhost:8080/",
          "height": 244
        },
        "outputId": "96d912b5-744b-4992-f99d-df455cca39fb"
      },
      "source": [
        "import pandas as pd\n",
        "import numpy as np\n",
        "import matplotlib.pyplot as plt\n",
        "\n",
        "df = pd.read_csv('/gdrive/My Drive/Python/austin_weather.csv')\n",
        "df.head()"
      ],
      "execution_count": 22,
      "outputs": [
        {
          "output_type": "execute_result",
          "data": {
            "text/html": [
              "<div>\n",
              "<style scoped>\n",
              "    .dataframe tbody tr th:only-of-type {\n",
              "        vertical-align: middle;\n",
              "    }\n",
              "\n",
              "    .dataframe tbody tr th {\n",
              "        vertical-align: top;\n",
              "    }\n",
              "\n",
              "    .dataframe thead th {\n",
              "        text-align: right;\n",
              "    }\n",
              "</style>\n",
              "<table border=\"1\" class=\"dataframe\">\n",
              "  <thead>\n",
              "    <tr style=\"text-align: right;\">\n",
              "      <th></th>\n",
              "      <th>Date</th>\n",
              "      <th>TempHighF</th>\n",
              "      <th>TempAvgF</th>\n",
              "      <th>TempLowF</th>\n",
              "      <th>DewPointHighF</th>\n",
              "      <th>DewPointAvgF</th>\n",
              "      <th>DewPointLowF</th>\n",
              "      <th>HumidityHighPercent</th>\n",
              "      <th>HumidityAvgPercent</th>\n",
              "      <th>HumidityLowPercent</th>\n",
              "      <th>SeaLevelPressureHighInches</th>\n",
              "      <th>SeaLevelPressureAvgInches</th>\n",
              "      <th>SeaLevelPressureLowInches</th>\n",
              "      <th>VisibilityHighMiles</th>\n",
              "      <th>VisibilityAvgMiles</th>\n",
              "      <th>VisibilityLowMiles</th>\n",
              "      <th>WindHighMPH</th>\n",
              "      <th>WindAvgMPH</th>\n",
              "      <th>WindGustMPH</th>\n",
              "      <th>PrecipitationSumInches</th>\n",
              "      <th>Events</th>\n",
              "    </tr>\n",
              "  </thead>\n",
              "  <tbody>\n",
              "    <tr>\n",
              "      <th>0</th>\n",
              "      <td>12/21/2013</td>\n",
              "      <td>74</td>\n",
              "      <td>60</td>\n",
              "      <td>45</td>\n",
              "      <td>67</td>\n",
              "      <td>49</td>\n",
              "      <td>43</td>\n",
              "      <td>93</td>\n",
              "      <td>75</td>\n",
              "      <td>57</td>\n",
              "      <td>29.86</td>\n",
              "      <td>29.68</td>\n",
              "      <td>29.59</td>\n",
              "      <td>10</td>\n",
              "      <td>7</td>\n",
              "      <td>2</td>\n",
              "      <td>20</td>\n",
              "      <td>4</td>\n",
              "      <td>31</td>\n",
              "      <td>0.46</td>\n",
              "      <td>Rain , Thunderstorm</td>\n",
              "    </tr>\n",
              "    <tr>\n",
              "      <th>1</th>\n",
              "      <td>12/22/2013</td>\n",
              "      <td>56</td>\n",
              "      <td>48</td>\n",
              "      <td>39</td>\n",
              "      <td>43</td>\n",
              "      <td>36</td>\n",
              "      <td>28</td>\n",
              "      <td>93</td>\n",
              "      <td>68</td>\n",
              "      <td>43</td>\n",
              "      <td>30.41</td>\n",
              "      <td>30.13</td>\n",
              "      <td>29.87</td>\n",
              "      <td>10</td>\n",
              "      <td>10</td>\n",
              "      <td>5</td>\n",
              "      <td>16</td>\n",
              "      <td>6</td>\n",
              "      <td>25</td>\n",
              "      <td>0</td>\n",
              "      <td></td>\n",
              "    </tr>\n",
              "    <tr>\n",
              "      <th>2</th>\n",
              "      <td>12/23/2013</td>\n",
              "      <td>58</td>\n",
              "      <td>45</td>\n",
              "      <td>32</td>\n",
              "      <td>31</td>\n",
              "      <td>27</td>\n",
              "      <td>23</td>\n",
              "      <td>76</td>\n",
              "      <td>52</td>\n",
              "      <td>27</td>\n",
              "      <td>30.56</td>\n",
              "      <td>30.49</td>\n",
              "      <td>30.41</td>\n",
              "      <td>10</td>\n",
              "      <td>10</td>\n",
              "      <td>10</td>\n",
              "      <td>8</td>\n",
              "      <td>3</td>\n",
              "      <td>12</td>\n",
              "      <td>0</td>\n",
              "      <td></td>\n",
              "    </tr>\n",
              "    <tr>\n",
              "      <th>3</th>\n",
              "      <td>12/24/2013</td>\n",
              "      <td>61</td>\n",
              "      <td>46</td>\n",
              "      <td>31</td>\n",
              "      <td>36</td>\n",
              "      <td>28</td>\n",
              "      <td>21</td>\n",
              "      <td>89</td>\n",
              "      <td>56</td>\n",
              "      <td>22</td>\n",
              "      <td>30.56</td>\n",
              "      <td>30.45</td>\n",
              "      <td>30.3</td>\n",
              "      <td>10</td>\n",
              "      <td>10</td>\n",
              "      <td>7</td>\n",
              "      <td>12</td>\n",
              "      <td>4</td>\n",
              "      <td>20</td>\n",
              "      <td>0</td>\n",
              "      <td></td>\n",
              "    </tr>\n",
              "    <tr>\n",
              "      <th>4</th>\n",
              "      <td>12/25/2013</td>\n",
              "      <td>58</td>\n",
              "      <td>50</td>\n",
              "      <td>41</td>\n",
              "      <td>44</td>\n",
              "      <td>40</td>\n",
              "      <td>36</td>\n",
              "      <td>86</td>\n",
              "      <td>71</td>\n",
              "      <td>56</td>\n",
              "      <td>30.41</td>\n",
              "      <td>30.33</td>\n",
              "      <td>30.27</td>\n",
              "      <td>10</td>\n",
              "      <td>10</td>\n",
              "      <td>7</td>\n",
              "      <td>10</td>\n",
              "      <td>2</td>\n",
              "      <td>16</td>\n",
              "      <td>T</td>\n",
              "      <td></td>\n",
              "    </tr>\n",
              "  </tbody>\n",
              "</table>\n",
              "</div>"
            ],
            "text/plain": [
              "         Date  TempHighF  ... PrecipitationSumInches               Events\n",
              "0  12/21/2013         74  ...                   0.46  Rain , Thunderstorm\n",
              "1  12/22/2013         56  ...                      0                     \n",
              "2  12/23/2013         58  ...                      0                     \n",
              "3  12/24/2013         61  ...                      0                     \n",
              "4  12/25/2013         58  ...                      T                     \n",
              "\n",
              "[5 rows x 21 columns]"
            ]
          },
          "metadata": {},
          "execution_count": 22
        }
      ]
    },
    {
      "cell_type": "code",
      "metadata": {
        "id": "HCwi_OKWFJDS",
        "colab": {
          "base_uri": "https://localhost:8080/"
        },
        "outputId": "5edb817b-86da-4115-82ea-e121588f33a5"
      },
      "source": [
        "df.info()"
      ],
      "execution_count": 23,
      "outputs": [
        {
          "output_type": "stream",
          "name": "stdout",
          "text": [
            "<class 'pandas.core.frame.DataFrame'>\n",
            "RangeIndex: 1319 entries, 0 to 1318\n",
            "Data columns (total 21 columns):\n",
            " #   Column                      Non-Null Count  Dtype \n",
            "---  ------                      --------------  ----- \n",
            " 0   Date                        1319 non-null   object\n",
            " 1   TempHighF                   1319 non-null   int64 \n",
            " 2   TempAvgF                    1319 non-null   object\n",
            " 3   TempLowF                    1319 non-null   int64 \n",
            " 4   DewPointHighF               1319 non-null   object\n",
            " 5   DewPointAvgF                1319 non-null   object\n",
            " 6   DewPointLowF                1319 non-null   object\n",
            " 7   HumidityHighPercent         1319 non-null   object\n",
            " 8   HumidityAvgPercent          1319 non-null   object\n",
            " 9   HumidityLowPercent          1319 non-null   object\n",
            " 10  SeaLevelPressureHighInches  1319 non-null   object\n",
            " 11  SeaLevelPressureAvgInches   1319 non-null   object\n",
            " 12  SeaLevelPressureLowInches   1319 non-null   object\n",
            " 13  VisibilityHighMiles         1319 non-null   object\n",
            " 14  VisibilityAvgMiles          1319 non-null   object\n",
            " 15  VisibilityLowMiles          1319 non-null   object\n",
            " 16  WindHighMPH                 1319 non-null   object\n",
            " 17  WindAvgMPH                  1319 non-null   object\n",
            " 18  WindGustMPH                 1319 non-null   object\n",
            " 19  PrecipitationSumInches      1319 non-null   object\n",
            " 20  Events                      1319 non-null   object\n",
            "dtypes: int64(2), object(19)\n",
            "memory usage: 216.5+ KB\n"
          ]
        }
      ]
    },
    {
      "cell_type": "code",
      "metadata": {
        "id": "RqAlHcWPpAyZ"
      },
      "source": [
        "df = df.sample(1000)"
      ],
      "execution_count": 24,
      "outputs": []
    },
    {
      "cell_type": "markdown",
      "metadata": {
        "id": "--yhSaQgFJDW"
      },
      "source": [
        "<h2>Soal 2. Visualisasi Scatter Plot dengan memiliki missing value </h2>\n",
        "\n",
        "Pada tugas kali ini kita akan mengamati nilai DewPointAvg (F) dengan mengamati nilai  HumidityAvg (%), TempAvg (F), dan WindAvg (MPG)\n",
        "\n",
        "Perhatikan bahwa data kita tidaklah siap untuk di analisis, salah satunya tipe data dari DewPointAvg (F), HumidityAvg (%), dan WindAvg (MPG) adalah object, padahalnya data nya ber isi numeric. maka :\n",
        "- Ubahlah tipe data tersebut menjadi tipe data float\n",
        "\n",
        "Kemudian: \n",
        "\n",
        "- Kalian tidak akan dengan mudah mengubah tipe data tersebut karena column tersebut mempunyai nilai '-' dan 'na' yang dianggap sebagai missing value,  namun data ini tidak bisa di ubah ke bentuk float, maka ubahlah data tersebut menjadi NaN dengan menambahkan argumen na_values=['na', '-'] saat menggunakan atribut pd.read_csv('nama file.csv'. na_values=..]\n",
        "- Sekarang ubah tipe datanya dengan float, gunakan method .astype(), baca dokumentasi https://pandas.pydata.org/pandas-docs/stable/reference/api/pandas.DataFrame.astype.html\n",
        "\n",
        "Setelah ini sebagian data siap untuk di jadikan bahan analisis. maka:\n",
        "\n",
        "a. Buahlah visualisasi scatter plot menggunakan sample(1000), sehingga menghasilkan gambar seperti dibawah:\n",
        "\n",
        "ket: \n",
        "\n",
        "- colormap adalah 'coolwarm'\n",
        "- berikat warna terhadap setiap data poin dengan nilai dari column TempAvgF\n",
        "- berikan size terhadap setiap data poin dengan nilai dari column WindAvgMPH, kalikan dengan 20 agar size terlihat lebih besar\n",
        "\n",
        "\n",
        "b. Kemudian bandingkan data visualisasi diatas dengan visualisasi data (sample=1000) setelah handling missing value menggunakan:\n",
        "- Isi nilai nan dengan nilai sebelumnya di row tersebut. gunakan method .fillna() dengan argument method bernilai 'ffill', baca dokumentasi https://pandas.pydata.org/pandas-docs/stable/reference/api/pandas.DataFrame.fillna.html"
      ]
    },
    {
      "cell_type": "markdown",
      "metadata": {
        "id": "DboFsM6mFJDX"
      },
      "source": [
        "#                     **Expected output**\n",
        "\n",
        "#                     **Tanpa Handling missing value**\n",
        "\n",
        "![tanpa handling missing value](https://drive.google.com/uc?id=1FYJkCwAfm8f3jyNdzOnCvp15hS_DixHr)\n",
        "\n",
        "##                    **Dengan Handling missing value**\n",
        "![dengan handling missing value](https://drive.google.com/uc?id=1nqZuPdBsqSsOud-_XuBGujDAcJWEEvIr)"
      ]
    },
    {
      "cell_type": "code",
      "metadata": {
        "id": "CLrba-PDFJDY",
        "colab": {
          "base_uri": "https://localhost:8080/"
        },
        "outputId": "fd96ff7a-6a7e-4736-bb66-1841295365ce"
      },
      "source": [
        "# code here\n",
        "\n",
        "df = pd.read_csv('/gdrive/My Drive/Python/austin_weather.csv', na_values=['na','-'])\n",
        "# convert data object to float\n",
        "df['DewPointHighF'] = df.DewPointHighF.astype(float)\n",
        "df['HumidityAvgPercent'] = df.HumidityAvgPercent.astype(float)\n",
        "df['WindAvgMPH'] = df.WindAvgMPH.astype(float)\n",
        "df.info()"
      ],
      "execution_count": 27,
      "outputs": [
        {
          "output_type": "stream",
          "name": "stdout",
          "text": [
            "<class 'pandas.core.frame.DataFrame'>\n",
            "RangeIndex: 1319 entries, 0 to 1318\n",
            "Data columns (total 21 columns):\n",
            " #   Column                      Non-Null Count  Dtype  \n",
            "---  ------                      --------------  -----  \n",
            " 0   Date                        1319 non-null   object \n",
            " 1   TempHighF                   1319 non-null   int64  \n",
            " 2   TempAvgF                    1312 non-null   float64\n",
            " 3   TempLowF                    1319 non-null   int64  \n",
            " 4   DewPointHighF               1312 non-null   float64\n",
            " 5   DewPointAvgF                1308 non-null   float64\n",
            " 6   DewPointLowF                1312 non-null   float64\n",
            " 7   HumidityHighPercent         1317 non-null   float64\n",
            " 8   HumidityAvgPercent          1309 non-null   float64\n",
            " 9   HumidityLowPercent          1317 non-null   float64\n",
            " 10  SeaLevelPressureHighInches  1316 non-null   float64\n",
            " 11  SeaLevelPressureAvgInches   1316 non-null   float64\n",
            " 12  SeaLevelPressureLowInches   1316 non-null   float64\n",
            " 13  VisibilityHighMiles         1307 non-null   float64\n",
            " 14  VisibilityAvgMiles          1307 non-null   float64\n",
            " 15  VisibilityLowMiles          1307 non-null   float64\n",
            " 16  WindHighMPH                 1317 non-null   float64\n",
            " 17  WindAvgMPH                  1306 non-null   float64\n",
            " 18  WindGustMPH                 1315 non-null   float64\n",
            " 19  PrecipitationSumInches      1319 non-null   object \n",
            " 20  Events                      1319 non-null   object \n",
            "dtypes: float64(16), int64(2), object(3)\n",
            "memory usage: 216.5+ KB\n"
          ]
        }
      ]
    },
    {
      "cell_type": "code",
      "metadata": {
        "id": "HDdpRuKmiNJ0"
      },
      "source": [
        "df = df.sample(1000)"
      ],
      "execution_count": 28,
      "outputs": []
    },
    {
      "cell_type": "code",
      "metadata": {
        "colab": {
          "base_uri": "https://localhost:8080/",
          "height": 283
        },
        "id": "EnuNR2i_htNf",
        "outputId": "a62c0d54-c58a-4c92-daf2-5adc595cfc99"
      },
      "source": [
        "x = df['HumidityAvgPercent']\n",
        "y = df['DewPointHighF']\n",
        "colors = df['TempAvgF']\n",
        "size = df['WindAvgMPH'] * 20\n",
        "\n",
        "plt.scatter(x, y , c=colors, s=size, cmap='coolwarm')\n",
        "plt.colorbar()"
      ],
      "execution_count": 29,
      "outputs": [
        {
          "output_type": "execute_result",
          "data": {
            "text/plain": [
              "<matplotlib.colorbar.Colorbar at 0x7f9bd1812e50>"
            ]
          },
          "metadata": {},
          "execution_count": 29
        },
        {
          "output_type": "display_data",
          "data": {
            "image/png": "[encoded data removed]",
            "text/plain": [
              "<Figure size 432x288 with 2 Axes>"
            ]
          },
          "metadata": {
            "needs_background": "light"
          }
        }
      ]
    },
    {
      "cell_type": "code",
      "metadata": {
        "colab": {
          "base_uri": "https://localhost:8080/",
          "height": 283
        },
        "id": "ZSYmAcdzjXRL",
        "outputId": "04d8ee74-1961-49b6-ecde-157a472443b2"
      },
      "source": [
        "df2 = df.fillna(method='ffill')\n",
        "\n",
        "x = df2['HumidityAvgPercent']\n",
        "y = df2['DewPointHighF']\n",
        "colors = df2['TempAvgF']\n",
        "size = df2['WindAvgMPH'] * 20\n",
        "\n",
        "plt.scatter(x, y , c=colors, s=size, cmap='coolwarm')\n",
        "plt.colorbar()"
      ],
      "execution_count": 31,
      "outputs": [
        {
          "output_type": "execute_result",
          "data": {
            "text/plain": [
              "<matplotlib.colorbar.Colorbar at 0x7f9bd12bc9d0>"
            ]
          },
          "metadata": {},
          "execution_count": 31
        },
        {
          "output_type": "display_data",
          "data": {
            "image/png": "[encoded data removed]",
            "text/plain": [
              "<Figure size 432x288 with 2 Axes>"
            ]
          },
          "metadata": {
            "needs_background": "light"
          }
        }
      ]
    },
    {
      "cell_type": "markdown",
      "metadata": {
        "id": "gKkNU2rCqxmY"
      },
      "source": [
        "Analisa : hasil visualisasi dengan menggunakan handling missing data fillna mennampilkan data yang lebih banyak daripada grafik tanpa handling data."
      ]
    },
    {
      "cell_type": "markdown",
      "metadata": {
        "id": "VwVSGQyPpqFq"
      },
      "source": [
        "Download [price.csv](https://drive.google.com/uc?export=download&id=1LfuQmLb8AZxAvJzgWJ3u4h49EoTGqO-R)"
      ]
    },
    {
      "cell_type": "code",
      "metadata": {
        "colab": {
          "base_uri": "https://localhost:8080/",
          "height": 206
        },
        "id": "GWDq4HwgHK2F",
        "outputId": "5122c65c-9b3d-415e-8dcd-d2bbee9d75f3"
      },
      "source": [
        "df2 = pd.read_csv('/gdrive/My Drive/Python/price.csv')\n",
        "df2.head()"
      ],
      "execution_count": 32,
      "outputs": [
        {
          "output_type": "execute_result",
          "data": {
            "text/html": [
              "<div>\n",
              "<style scoped>\n",
              "    .dataframe tbody tr th:only-of-type {\n",
              "        vertical-align: middle;\n",
              "    }\n",
              "\n",
              "    .dataframe tbody tr th {\n",
              "        vertical-align: top;\n",
              "    }\n",
              "\n",
              "    .dataframe thead th {\n",
              "        text-align: right;\n",
              "    }\n",
              "</style>\n",
              "<table border=\"1\" class=\"dataframe\">\n",
              "  <thead>\n",
              "    <tr style=\"text-align: right;\">\n",
              "      <th></th>\n",
              "      <th>Observation</th>\n",
              "      <th>Dist_Taxi</th>\n",
              "      <th>Dist_Market</th>\n",
              "      <th>Dist_Hospital</th>\n",
              "      <th>Carpet</th>\n",
              "      <th>Builtup</th>\n",
              "      <th>Parking</th>\n",
              "      <th>City_Category</th>\n",
              "      <th>Rainfall</th>\n",
              "      <th>House_Price</th>\n",
              "    </tr>\n",
              "  </thead>\n",
              "  <tbody>\n",
              "    <tr>\n",
              "      <th>0</th>\n",
              "      <td>1</td>\n",
              "      <td>9796.0</td>\n",
              "      <td>5250.0</td>\n",
              "      <td>10703.0</td>\n",
              "      <td>1659.0</td>\n",
              "      <td>1961.0</td>\n",
              "      <td>Open</td>\n",
              "      <td>CAT B</td>\n",
              "      <td>530</td>\n",
              "      <td>6649000</td>\n",
              "    </tr>\n",
              "    <tr>\n",
              "      <th>1</th>\n",
              "      <td>2</td>\n",
              "      <td>8294.0</td>\n",
              "      <td>8186.0</td>\n",
              "      <td>12694.0</td>\n",
              "      <td>1461.0</td>\n",
              "      <td>1752.0</td>\n",
              "      <td>Not Provided</td>\n",
              "      <td>CAT B</td>\n",
              "      <td>210</td>\n",
              "      <td>3982000</td>\n",
              "    </tr>\n",
              "    <tr>\n",
              "      <th>2</th>\n",
              "      <td>3</td>\n",
              "      <td>11001.0</td>\n",
              "      <td>14399.0</td>\n",
              "      <td>16991.0</td>\n",
              "      <td>1340.0</td>\n",
              "      <td>1609.0</td>\n",
              "      <td>Not Provided</td>\n",
              "      <td>CAT A</td>\n",
              "      <td>720</td>\n",
              "      <td>5401000</td>\n",
              "    </tr>\n",
              "    <tr>\n",
              "      <th>3</th>\n",
              "      <td>4</td>\n",
              "      <td>8301.0</td>\n",
              "      <td>11188.0</td>\n",
              "      <td>12289.0</td>\n",
              "      <td>1451.0</td>\n",
              "      <td>1748.0</td>\n",
              "      <td>Covered</td>\n",
              "      <td>CAT B</td>\n",
              "      <td>620</td>\n",
              "      <td>5373000</td>\n",
              "    </tr>\n",
              "    <tr>\n",
              "      <th>4</th>\n",
              "      <td>5</td>\n",
              "      <td>10510.0</td>\n",
              "      <td>12629.0</td>\n",
              "      <td>13921.0</td>\n",
              "      <td>1770.0</td>\n",
              "      <td>2111.0</td>\n",
              "      <td>Not Provided</td>\n",
              "      <td>CAT B</td>\n",
              "      <td>450</td>\n",
              "      <td>4662000</td>\n",
              "    </tr>\n",
              "  </tbody>\n",
              "</table>\n",
              "</div>"
            ],
            "text/plain": [
              "   Observation  Dist_Taxi  Dist_Market  ...  City_Category  Rainfall  House_Price\n",
              "0            1     9796.0       5250.0  ...          CAT B       530      6649000\n",
              "1            2     8294.0       8186.0  ...          CAT B       210      3982000\n",
              "2            3    11001.0      14399.0  ...          CAT A       720      5401000\n",
              "3            4     8301.0      11188.0  ...          CAT B       620      5373000\n",
              "4            5    10510.0      12629.0  ...          CAT B       450      4662000\n",
              "\n",
              "[5 rows x 10 columns]"
            ]
          },
          "metadata": {},
          "execution_count": 32
        }
      ]
    },
    {
      "cell_type": "markdown",
      "metadata": {
        "id": "TnjNVy7IH2cH"
      },
      "source": [
        "---"
      ]
    },
    {
      "cell_type": "markdown",
      "metadata": {
        "id": "67MVrs0hXGrH"
      },
      "source": [
        "<h2>Soal 3. Visualisasi Data with Handling outliers </h2>\n",
        "\n",
        "Pada tugas kali ini, kita akan melakukan handling outliers. Outliers ditemukan pada kolom 'House_Price' dengan menggunakan boxplot dari library seaborn seperti gambar berikut: \n",
        "\n",
        "\n",
        "![boxplot1](https://drive.google.com/uc?id=1y2jRwf8zRPXQtSBkmjJLcqUm4l6DR7d9)\n",
        "\n",
        "\n",
        "Dengan menggunakan Interquartile range, kita bisa temukan nilai data outliers dan meremove data outlier tersebut. \n",
        "\n",
        "*   Tentukan nilai batas atas dan batas bawah dari Interquartile range tersebut\n",
        "*   Remove data outliers tersebut menggunakan batas atas dan batas bawah\n",
        "*   Visualisasikan hasil data yang sudah d remove outliers seperti expected berikut:\n",
        "\n",
        "\n",
        "\n",
        "\n",
        "\n"
      ]
    },
    {
      "cell_type": "markdown",
      "metadata": {
        "id": "otdwnys0H62n"
      },
      "source": [
        "**EXPECTED OUTPUT:**\n",
        "\n",
        "Batas bawah & batas atas:\n",
        "\n",
        "871625.0 10976625.0\n",
        "\n",
        "Visualisasi boxplot:\n",
        "\n",
        "![boxplot2](https://drive.google.com/uc?id=1qZc-lEa5FUzSQ_cyt4_GJQ0TZ8c6WjHX)\n",
        "\n",
        "\n",
        "\n"
      ]
    },
    {
      "cell_type": "code",
      "metadata": {
        "id": "zVuXO61-q1mE",
        "colab": {
          "base_uri": "https://localhost:8080/",
          "height": 285
        },
        "outputId": "16fd4791-b578-4fb5-a5ef-6548e1b41467"
      },
      "source": [
        "#Code here\n",
        "import seaborn as sns\n",
        "\n",
        "sns.set_theme(style=\"whitegrid\")\n",
        "data = sns.boxplot(x=\"House_Price\", data=df2)"
      ],
      "execution_count": 36,
      "outputs": [
        {
          "output_type": "display_data",
          "data": {
            "image/png": "[encoded data removed]",
            "text/plain": [
              "<Figure size 432x288 with 1 Axes>"
            ]
          },
          "metadata": {}
        }
      ]
    },
    {
      "cell_type": "code",
      "metadata": {
        "id": "sjK7c18Alyzz"
      },
      "source": [
        "import numpy as np\n",
        "import scipy.stats\n",
        "\n",
        "Zscore_tinggi = scipy.stats.zscore(df2['House_Price'])"
      ],
      "execution_count": 48,
      "outputs": []
    },
    {
      "cell_type": "code",
      "metadata": {
        "colab": {
          "base_uri": "https://localhost:8080/"
        },
        "id": "ZXgKXLUHoUhb",
        "outputId": "8953032f-fd34-4e6e-f93d-7f39adda78dd"
      },
      "source": [
        "Q1 = df2['House_Price'].quantile(0.25)\n",
        "Q3 = df2['House_Price'].quantile(0.75)\n",
        "IQR = Q3 - Q1\n",
        "\n",
        "lower_bound = Q1 - 1.5*IQR\n",
        "upper_bound = Q1 + 1.5*IQR\n",
        "print(lower_bound, upper_bound)"
      ],
      "execution_count": 49,
      "outputs": [
        {
          "output_type": "stream",
          "name": "stdout",
          "text": [
            "871625.0 8450375.0\n"
          ]
        }
      ]
    },
    {
      "cell_type": "code",
      "metadata": {
        "colab": {
          "base_uri": "https://localhost:8080/"
        },
        "id": "PD4rC_d9njS8",
        "outputId": "7474b195-a226-4576-a564-16097c2fa008"
      },
      "source": [
        "df2['House_Price'] = df2[(df2['House_Price'] > lower_bound) & (df2['House_Price'] < upper_bound)]\n",
        "df2['House_Price']"
      ],
      "execution_count": 51,
      "outputs": [
        {
          "output_type": "execute_result",
          "data": {
            "text/plain": [
              "0        1\n",
              "1        2\n",
              "2        3\n",
              "3        4\n",
              "4        5\n",
              "      ... \n",
              "931    932\n",
              "932    933\n",
              "933    934\n",
              "934    935\n",
              "935    936\n",
              "Name: House_Price, Length: 936, dtype: object"
            ]
          },
          "metadata": {},
          "execution_count": 51
        }
      ]
    },
    {
      "cell_type": "code",
      "metadata": {
        "colab": {
          "base_uri": "https://localhost:8080/",
          "height": 285
        },
        "id": "KbCUf077ruim",
        "outputId": "b91b990d-a814-4d0b-d578-67bfad2e3ee5"
      },
      "source": [
        "sns.set_theme(style=\"whitegrid\")\n",
        "data = sns.boxplot(x=\"House_Price\", data=df2)"
      ],
      "execution_count": 52,
      "outputs": [
        {
          "output_type": "display_data",
          "data": {
            "image/png": "[encoded data removed]",
            "text/plain": [
              "<Figure size 432x288 with 1 Axes>"
            ]
          },
          "metadata": {}
        }
      ]
    },
    {
      "cell_type": "code",
      "metadata": {
        "id": "C8t82NRCk6yQ"
      },
      "source": [
        ""
      ],
      "execution_count": null,
      "outputs": []
    }
  ]
}